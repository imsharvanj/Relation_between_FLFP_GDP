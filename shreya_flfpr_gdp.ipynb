{
  "nbformat": 4,
  "nbformat_minor": 0,
  "metadata": {
    "colab": {
      "name": "shreya_flfpr_gdp.ipynb",
      "provenance": [],
      "authorship_tag": "ABX9TyPkZ5IiPrBLau2RfVQPNz8H",
      "include_colab_link": true
    },
    "kernelspec": {
      "name": "python3",
      "display_name": "Python 3"
    },
    "language_info": {
      "name": "python"
    }
  },
  "cells": [
    {
      "cell_type": "markdown",
      "metadata": {
        "id": "view-in-github",
        "colab_type": "text"
      },
      "source": [
        "<a href=\"https://colab.research.google.com/github/imsharvanj/Relation_between_FLFP_GDP/blob/main/shreya_flfpr_gdp.ipynb\" target=\"_parent\"><img src=\"https://colab.research.google.com/assets/colab-badge.svg\" alt=\"Open In Colab\"/></a>"
      ]
    },
    {
      "cell_type": "code",
      "execution_count": 19,
      "metadata": {
        "colab": {
          "base_uri": "https://localhost:8080/"
        },
        "id": "fJbayRGGokUm",
        "outputId": "39901c45-64a9-4de6-eba4-b97afde4c566"
      },
      "outputs": [
        {
          "output_type": "stream",
          "name": "stdout",
          "text": [
            "Mounted at /content/gdrive\n"
          ]
        }
      ],
      "source": [
        "from google.colab import drive\n",
        "drive.mount('/content/gdrive', force_remount=True)"
      ]
    },
    {
      "cell_type": "code",
      "source": [
        "import numpy as np\n",
        "import pandas as pd\n",
        "import seaborn as sns\n",
        "import matplotlib.pyplot as plt\n",
        "from sklearn.metrics import r2_score\n",
        "import scipy.stats as stats"
      ],
      "metadata": {
        "id": "FaZsv8-lwupx"
      },
      "execution_count": 20,
      "outputs": []
    },
    {
      "cell_type": "code",
      "source": [
        "df = pd.read_csv('gdrive/My Drive/_python notebooks/data.csv')\n",
        "df.rename(columns={'GDP per capita': 'gdp_per_capita', 'Year': 'year'}, inplace=True)\n",
        "df.name = 'Cummulative Data'\n",
        "df.head()"
      ],
      "metadata": {
        "colab": {
          "base_uri": "https://localhost:8080/",
          "height": 206
        },
        "id": "Eee-kd3xpOD0",
        "outputId": "cab8b1c3-e6e8-46cc-8f13-34850f3101ec"
      },
      "execution_count": 21,
      "outputs": [
        {
          "output_type": "execute_result",
          "data": {
            "text/plain": [
              "   year  gdp_per_capita      flfpr\n",
              "0  1990      367.556609  30.443001\n",
              "1  1991      303.055608  30.452999\n",
              "2  1992      316.953927  30.493000\n",
              "3  1993      301.159002  30.570000\n",
              "4  1994      346.102951  30.691999"
            ],
            "text/html": [
              "\n",
              "  <div id=\"df-c804290d-949b-471f-8dc1-9f524b0314b0\">\n",
              "    <div class=\"colab-df-container\">\n",
              "      <div>\n",
              "<style scoped>\n",
              "    .dataframe tbody tr th:only-of-type {\n",
              "        vertical-align: middle;\n",
              "    }\n",
              "\n",
              "    .dataframe tbody tr th {\n",
              "        vertical-align: top;\n",
              "    }\n",
              "\n",
              "    .dataframe thead th {\n",
              "        text-align: right;\n",
              "    }\n",
              "</style>\n",
              "<table border=\"1\" class=\"dataframe\">\n",
              "  <thead>\n",
              "    <tr style=\"text-align: right;\">\n",
              "      <th></th>\n",
              "      <th>year</th>\n",
              "      <th>gdp_per_capita</th>\n",
              "      <th>flfpr</th>\n",
              "    </tr>\n",
              "  </thead>\n",
              "  <tbody>\n",
              "    <tr>\n",
              "      <th>0</th>\n",
              "      <td>1990</td>\n",
              "      <td>367.556609</td>\n",
              "      <td>30.443001</td>\n",
              "    </tr>\n",
              "    <tr>\n",
              "      <th>1</th>\n",
              "      <td>1991</td>\n",
              "      <td>303.055608</td>\n",
              "      <td>30.452999</td>\n",
              "    </tr>\n",
              "    <tr>\n",
              "      <th>2</th>\n",
              "      <td>1992</td>\n",
              "      <td>316.953927</td>\n",
              "      <td>30.493000</td>\n",
              "    </tr>\n",
              "    <tr>\n",
              "      <th>3</th>\n",
              "      <td>1993</td>\n",
              "      <td>301.159002</td>\n",
              "      <td>30.570000</td>\n",
              "    </tr>\n",
              "    <tr>\n",
              "      <th>4</th>\n",
              "      <td>1994</td>\n",
              "      <td>346.102951</td>\n",
              "      <td>30.691999</td>\n",
              "    </tr>\n",
              "  </tbody>\n",
              "</table>\n",
              "</div>\n",
              "      <button class=\"colab-df-convert\" onclick=\"convertToInteractive('df-c804290d-949b-471f-8dc1-9f524b0314b0')\"\n",
              "              title=\"Convert this dataframe to an interactive table.\"\n",
              "              style=\"display:none;\">\n",
              "        \n",
              "  <svg xmlns=\"http://www.w3.org/2000/svg\" height=\"24px\"viewBox=\"0 0 24 24\"\n",
              "       width=\"24px\">\n",
              "    <path d=\"M0 0h24v24H0V0z\" fill=\"none\"/>\n",
              "    <path d=\"M18.56 5.44l.94 2.06.94-2.06 2.06-.94-2.06-.94-.94-2.06-.94 2.06-2.06.94zm-11 1L8.5 8.5l.94-2.06 2.06-.94-2.06-.94L8.5 2.5l-.94 2.06-2.06.94zm10 10l.94 2.06.94-2.06 2.06-.94-2.06-.94-.94-2.06-.94 2.06-2.06.94z\"/><path d=\"M17.41 7.96l-1.37-1.37c-.4-.4-.92-.59-1.43-.59-.52 0-1.04.2-1.43.59L10.3 9.45l-7.72 7.72c-.78.78-.78 2.05 0 2.83L4 21.41c.39.39.9.59 1.41.59.51 0 1.02-.2 1.41-.59l7.78-7.78 2.81-2.81c.8-.78.8-2.07 0-2.86zM5.41 20L4 18.59l7.72-7.72 1.47 1.35L5.41 20z\"/>\n",
              "  </svg>\n",
              "      </button>\n",
              "      \n",
              "  <style>\n",
              "    .colab-df-container {\n",
              "      display:flex;\n",
              "      flex-wrap:wrap;\n",
              "      gap: 12px;\n",
              "    }\n",
              "\n",
              "    .colab-df-convert {\n",
              "      background-color: #E8F0FE;\n",
              "      border: none;\n",
              "      border-radius: 50%;\n",
              "      cursor: pointer;\n",
              "      display: none;\n",
              "      fill: #1967D2;\n",
              "      height: 32px;\n",
              "      padding: 0 0 0 0;\n",
              "      width: 32px;\n",
              "    }\n",
              "\n",
              "    .colab-df-convert:hover {\n",
              "      background-color: #E2EBFA;\n",
              "      box-shadow: 0px 1px 2px rgba(60, 64, 67, 0.3), 0px 1px 3px 1px rgba(60, 64, 67, 0.15);\n",
              "      fill: #174EA6;\n",
              "    }\n",
              "\n",
              "    [theme=dark] .colab-df-convert {\n",
              "      background-color: #3B4455;\n",
              "      fill: #D2E3FC;\n",
              "    }\n",
              "\n",
              "    [theme=dark] .colab-df-convert:hover {\n",
              "      background-color: #434B5C;\n",
              "      box-shadow: 0px 1px 3px 1px rgba(0, 0, 0, 0.15);\n",
              "      filter: drop-shadow(0px 1px 2px rgba(0, 0, 0, 0.3));\n",
              "      fill: #FFFFFF;\n",
              "    }\n",
              "  </style>\n",
              "\n",
              "      <script>\n",
              "        const buttonEl =\n",
              "          document.querySelector('#df-c804290d-949b-471f-8dc1-9f524b0314b0 button.colab-df-convert');\n",
              "        buttonEl.style.display =\n",
              "          google.colab.kernel.accessAllowed ? 'block' : 'none';\n",
              "\n",
              "        async function convertToInteractive(key) {\n",
              "          const element = document.querySelector('#df-c804290d-949b-471f-8dc1-9f524b0314b0');\n",
              "          const dataTable =\n",
              "            await google.colab.kernel.invokeFunction('convertToInteractive',\n",
              "                                                     [key], {});\n",
              "          if (!dataTable) return;\n",
              "\n",
              "          const docLinkHtml = 'Like what you see? Visit the ' +\n",
              "            '<a target=\"_blank\" href=https://colab.research.google.com/notebooks/data_table.ipynb>data table notebook</a>'\n",
              "            + ' to learn more about interactive tables.';\n",
              "          element.innerHTML = '';\n",
              "          dataTable['output_type'] = 'display_data';\n",
              "          await google.colab.output.renderOutput(dataTable, element);\n",
              "          const docLink = document.createElement('div');\n",
              "          docLink.innerHTML = docLinkHtml;\n",
              "          element.appendChild(docLink);\n",
              "        }\n",
              "      </script>\n",
              "    </div>\n",
              "  </div>\n",
              "  "
            ]
          },
          "metadata": {},
          "execution_count": 21
        }
      ]
    },
    {
      "cell_type": "code",
      "source": [
        "df['log_gdp_per_capita'] = np.log2(df['gdp_per_capita'])\n",
        "df['log_gdp_per_capita_squared'] = df['log_gdp_per_capita']**2\n",
        "df['abs_flfp'] = df['flfpr']/100\n",
        "df.head()"
      ],
      "metadata": {
        "colab": {
          "base_uri": "https://localhost:8080/",
          "height": 206
        },
        "id": "fvGBL89fpP7O",
        "outputId": "f5774197-ce81-45ae-e8fd-6d2c24fba5ea"
      },
      "execution_count": 22,
      "outputs": [
        {
          "output_type": "execute_result",
          "data": {
            "text/plain": [
              "   year  gdp_per_capita      flfpr  log_gdp_per_capita  \\\n",
              "0  1990      367.556609  30.443001            8.521823   \n",
              "1  1991      303.055608  30.452999            8.243439   \n",
              "2  1992      316.953927  30.493000            8.308129   \n",
              "3  1993      301.159002  30.570000            8.234382   \n",
              "4  1994      346.102951  30.691999            8.435057   \n",
              "\n",
              "   log_gdp_per_capita_squared  abs_flfp  \n",
              "0                   72.621461   0.30443  \n",
              "1                   67.954282   0.30453  \n",
              "2                   69.025013   0.30493  \n",
              "3                   67.805040   0.30570  \n",
              "4                   71.150194   0.30692  "
            ],
            "text/html": [
              "\n",
              "  <div id=\"df-dc682b88-734f-451e-a8dd-81282f2ef209\">\n",
              "    <div class=\"colab-df-container\">\n",
              "      <div>\n",
              "<style scoped>\n",
              "    .dataframe tbody tr th:only-of-type {\n",
              "        vertical-align: middle;\n",
              "    }\n",
              "\n",
              "    .dataframe tbody tr th {\n",
              "        vertical-align: top;\n",
              "    }\n",
              "\n",
              "    .dataframe thead th {\n",
              "        text-align: right;\n",
              "    }\n",
              "</style>\n",
              "<table border=\"1\" class=\"dataframe\">\n",
              "  <thead>\n",
              "    <tr style=\"text-align: right;\">\n",
              "      <th></th>\n",
              "      <th>year</th>\n",
              "      <th>gdp_per_capita</th>\n",
              "      <th>flfpr</th>\n",
              "      <th>log_gdp_per_capita</th>\n",
              "      <th>log_gdp_per_capita_squared</th>\n",
              "      <th>abs_flfp</th>\n",
              "    </tr>\n",
              "  </thead>\n",
              "  <tbody>\n",
              "    <tr>\n",
              "      <th>0</th>\n",
              "      <td>1990</td>\n",
              "      <td>367.556609</td>\n",
              "      <td>30.443001</td>\n",
              "      <td>8.521823</td>\n",
              "      <td>72.621461</td>\n",
              "      <td>0.30443</td>\n",
              "    </tr>\n",
              "    <tr>\n",
              "      <th>1</th>\n",
              "      <td>1991</td>\n",
              "      <td>303.055608</td>\n",
              "      <td>30.452999</td>\n",
              "      <td>8.243439</td>\n",
              "      <td>67.954282</td>\n",
              "      <td>0.30453</td>\n",
              "    </tr>\n",
              "    <tr>\n",
              "      <th>2</th>\n",
              "      <td>1992</td>\n",
              "      <td>316.953927</td>\n",
              "      <td>30.493000</td>\n",
              "      <td>8.308129</td>\n",
              "      <td>69.025013</td>\n",
              "      <td>0.30493</td>\n",
              "    </tr>\n",
              "    <tr>\n",
              "      <th>3</th>\n",
              "      <td>1993</td>\n",
              "      <td>301.159002</td>\n",
              "      <td>30.570000</td>\n",
              "      <td>8.234382</td>\n",
              "      <td>67.805040</td>\n",
              "      <td>0.30570</td>\n",
              "    </tr>\n",
              "    <tr>\n",
              "      <th>4</th>\n",
              "      <td>1994</td>\n",
              "      <td>346.102951</td>\n",
              "      <td>30.691999</td>\n",
              "      <td>8.435057</td>\n",
              "      <td>71.150194</td>\n",
              "      <td>0.30692</td>\n",
              "    </tr>\n",
              "  </tbody>\n",
              "</table>\n",
              "</div>\n",
              "      <button class=\"colab-df-convert\" onclick=\"convertToInteractive('df-dc682b88-734f-451e-a8dd-81282f2ef209')\"\n",
              "              title=\"Convert this dataframe to an interactive table.\"\n",
              "              style=\"display:none;\">\n",
              "        \n",
              "  <svg xmlns=\"http://www.w3.org/2000/svg\" height=\"24px\"viewBox=\"0 0 24 24\"\n",
              "       width=\"24px\">\n",
              "    <path d=\"M0 0h24v24H0V0z\" fill=\"none\"/>\n",
              "    <path d=\"M18.56 5.44l.94 2.06.94-2.06 2.06-.94-2.06-.94-.94-2.06-.94 2.06-2.06.94zm-11 1L8.5 8.5l.94-2.06 2.06-.94-2.06-.94L8.5 2.5l-.94 2.06-2.06.94zm10 10l.94 2.06.94-2.06 2.06-.94-2.06-.94-.94-2.06-.94 2.06-2.06.94z\"/><path d=\"M17.41 7.96l-1.37-1.37c-.4-.4-.92-.59-1.43-.59-.52 0-1.04.2-1.43.59L10.3 9.45l-7.72 7.72c-.78.78-.78 2.05 0 2.83L4 21.41c.39.39.9.59 1.41.59.51 0 1.02-.2 1.41-.59l7.78-7.78 2.81-2.81c.8-.78.8-2.07 0-2.86zM5.41 20L4 18.59l7.72-7.72 1.47 1.35L5.41 20z\"/>\n",
              "  </svg>\n",
              "      </button>\n",
              "      \n",
              "  <style>\n",
              "    .colab-df-container {\n",
              "      display:flex;\n",
              "      flex-wrap:wrap;\n",
              "      gap: 12px;\n",
              "    }\n",
              "\n",
              "    .colab-df-convert {\n",
              "      background-color: #E8F0FE;\n",
              "      border: none;\n",
              "      border-radius: 50%;\n",
              "      cursor: pointer;\n",
              "      display: none;\n",
              "      fill: #1967D2;\n",
              "      height: 32px;\n",
              "      padding: 0 0 0 0;\n",
              "      width: 32px;\n",
              "    }\n",
              "\n",
              "    .colab-df-convert:hover {\n",
              "      background-color: #E2EBFA;\n",
              "      box-shadow: 0px 1px 2px rgba(60, 64, 67, 0.3), 0px 1px 3px 1px rgba(60, 64, 67, 0.15);\n",
              "      fill: #174EA6;\n",
              "    }\n",
              "\n",
              "    [theme=dark] .colab-df-convert {\n",
              "      background-color: #3B4455;\n",
              "      fill: #D2E3FC;\n",
              "    }\n",
              "\n",
              "    [theme=dark] .colab-df-convert:hover {\n",
              "      background-color: #434B5C;\n",
              "      box-shadow: 0px 1px 3px 1px rgba(0, 0, 0, 0.15);\n",
              "      filter: drop-shadow(0px 1px 2px rgba(0, 0, 0, 0.3));\n",
              "      fill: #FFFFFF;\n",
              "    }\n",
              "  </style>\n",
              "\n",
              "      <script>\n",
              "        const buttonEl =\n",
              "          document.querySelector('#df-dc682b88-734f-451e-a8dd-81282f2ef209 button.colab-df-convert');\n",
              "        buttonEl.style.display =\n",
              "          google.colab.kernel.accessAllowed ? 'block' : 'none';\n",
              "\n",
              "        async function convertToInteractive(key) {\n",
              "          const element = document.querySelector('#df-dc682b88-734f-451e-a8dd-81282f2ef209');\n",
              "          const dataTable =\n",
              "            await google.colab.kernel.invokeFunction('convertToInteractive',\n",
              "                                                     [key], {});\n",
              "          if (!dataTable) return;\n",
              "\n",
              "          const docLinkHtml = 'Like what you see? Visit the ' +\n",
              "            '<a target=\"_blank\" href=https://colab.research.google.com/notebooks/data_table.ipynb>data table notebook</a>'\n",
              "            + ' to learn more about interactive tables.';\n",
              "          element.innerHTML = '';\n",
              "          dataTable['output_type'] = 'display_data';\n",
              "          await google.colab.output.renderOutput(dataTable, element);\n",
              "          const docLink = document.createElement('div');\n",
              "          docLink.innerHTML = docLinkHtml;\n",
              "          element.appendChild(docLink);\n",
              "        }\n",
              "      </script>\n",
              "    </div>\n",
              "  </div>\n",
              "  "
            ]
          },
          "metadata": {},
          "execution_count": 22
        }
      ]
    },
    {
      "cell_type": "markdown",
      "source": [
        "### **Recession happened between in 2006-2009. So we are dividing data in 2 parts.**\n"
      ],
      "metadata": {
        "id": "n5OUv123V8Nj"
      }
    },
    {
      "cell_type": "code",
      "source": [
        "# before 2006\n",
        "df_before_2006 = df[df['year'] < 2006]\n",
        "df_before_2006.name = 'Before 2006'\n",
        "df_before_2006.head()"
      ],
      "metadata": {
        "colab": {
          "base_uri": "https://localhost:8080/",
          "height": 206
        },
        "id": "WWN_yLusQ5oi",
        "outputId": "30bd9540-2fc0-42b2-bda6-053a77c8589a"
      },
      "execution_count": 23,
      "outputs": [
        {
          "output_type": "execute_result",
          "data": {
            "text/plain": [
              "   year  gdp_per_capita      flfpr  log_gdp_per_capita  \\\n",
              "0  1990      367.556609  30.443001            8.521823   \n",
              "1  1991      303.055608  30.452999            8.243439   \n",
              "2  1992      316.953927  30.493000            8.308129   \n",
              "3  1993      301.159002  30.570000            8.234382   \n",
              "4  1994      346.102951  30.691999            8.435057   \n",
              "\n",
              "   log_gdp_per_capita_squared  abs_flfp  \n",
              "0                   72.621461   0.30443  \n",
              "1                   67.954282   0.30453  \n",
              "2                   69.025013   0.30493  \n",
              "3                   67.805040   0.30570  \n",
              "4                   71.150194   0.30692  "
            ],
            "text/html": [
              "\n",
              "  <div id=\"df-a47d2933-639e-497e-8977-826a689f980b\">\n",
              "    <div class=\"colab-df-container\">\n",
              "      <div>\n",
              "<style scoped>\n",
              "    .dataframe tbody tr th:only-of-type {\n",
              "        vertical-align: middle;\n",
              "    }\n",
              "\n",
              "    .dataframe tbody tr th {\n",
              "        vertical-align: top;\n",
              "    }\n",
              "\n",
              "    .dataframe thead th {\n",
              "        text-align: right;\n",
              "    }\n",
              "</style>\n",
              "<table border=\"1\" class=\"dataframe\">\n",
              "  <thead>\n",
              "    <tr style=\"text-align: right;\">\n",
              "      <th></th>\n",
              "      <th>year</th>\n",
              "      <th>gdp_per_capita</th>\n",
              "      <th>flfpr</th>\n",
              "      <th>log_gdp_per_capita</th>\n",
              "      <th>log_gdp_per_capita_squared</th>\n",
              "      <th>abs_flfp</th>\n",
              "    </tr>\n",
              "  </thead>\n",
              "  <tbody>\n",
              "    <tr>\n",
              "      <th>0</th>\n",
              "      <td>1990</td>\n",
              "      <td>367.556609</td>\n",
              "      <td>30.443001</td>\n",
              "      <td>8.521823</td>\n",
              "      <td>72.621461</td>\n",
              "      <td>0.30443</td>\n",
              "    </tr>\n",
              "    <tr>\n",
              "      <th>1</th>\n",
              "      <td>1991</td>\n",
              "      <td>303.055608</td>\n",
              "      <td>30.452999</td>\n",
              "      <td>8.243439</td>\n",
              "      <td>67.954282</td>\n",
              "      <td>0.30453</td>\n",
              "    </tr>\n",
              "    <tr>\n",
              "      <th>2</th>\n",
              "      <td>1992</td>\n",
              "      <td>316.953927</td>\n",
              "      <td>30.493000</td>\n",
              "      <td>8.308129</td>\n",
              "      <td>69.025013</td>\n",
              "      <td>0.30493</td>\n",
              "    </tr>\n",
              "    <tr>\n",
              "      <th>3</th>\n",
              "      <td>1993</td>\n",
              "      <td>301.159002</td>\n",
              "      <td>30.570000</td>\n",
              "      <td>8.234382</td>\n",
              "      <td>67.805040</td>\n",
              "      <td>0.30570</td>\n",
              "    </tr>\n",
              "    <tr>\n",
              "      <th>4</th>\n",
              "      <td>1994</td>\n",
              "      <td>346.102951</td>\n",
              "      <td>30.691999</td>\n",
              "      <td>8.435057</td>\n",
              "      <td>71.150194</td>\n",
              "      <td>0.30692</td>\n",
              "    </tr>\n",
              "  </tbody>\n",
              "</table>\n",
              "</div>\n",
              "      <button class=\"colab-df-convert\" onclick=\"convertToInteractive('df-a47d2933-639e-497e-8977-826a689f980b')\"\n",
              "              title=\"Convert this dataframe to an interactive table.\"\n",
              "              style=\"display:none;\">\n",
              "        \n",
              "  <svg xmlns=\"http://www.w3.org/2000/svg\" height=\"24px\"viewBox=\"0 0 24 24\"\n",
              "       width=\"24px\">\n",
              "    <path d=\"M0 0h24v24H0V0z\" fill=\"none\"/>\n",
              "    <path d=\"M18.56 5.44l.94 2.06.94-2.06 2.06-.94-2.06-.94-.94-2.06-.94 2.06-2.06.94zm-11 1L8.5 8.5l.94-2.06 2.06-.94-2.06-.94L8.5 2.5l-.94 2.06-2.06.94zm10 10l.94 2.06.94-2.06 2.06-.94-2.06-.94-.94-2.06-.94 2.06-2.06.94z\"/><path d=\"M17.41 7.96l-1.37-1.37c-.4-.4-.92-.59-1.43-.59-.52 0-1.04.2-1.43.59L10.3 9.45l-7.72 7.72c-.78.78-.78 2.05 0 2.83L4 21.41c.39.39.9.59 1.41.59.51 0 1.02-.2 1.41-.59l7.78-7.78 2.81-2.81c.8-.78.8-2.07 0-2.86zM5.41 20L4 18.59l7.72-7.72 1.47 1.35L5.41 20z\"/>\n",
              "  </svg>\n",
              "      </button>\n",
              "      \n",
              "  <style>\n",
              "    .colab-df-container {\n",
              "      display:flex;\n",
              "      flex-wrap:wrap;\n",
              "      gap: 12px;\n",
              "    }\n",
              "\n",
              "    .colab-df-convert {\n",
              "      background-color: #E8F0FE;\n",
              "      border: none;\n",
              "      border-radius: 50%;\n",
              "      cursor: pointer;\n",
              "      display: none;\n",
              "      fill: #1967D2;\n",
              "      height: 32px;\n",
              "      padding: 0 0 0 0;\n",
              "      width: 32px;\n",
              "    }\n",
              "\n",
              "    .colab-df-convert:hover {\n",
              "      background-color: #E2EBFA;\n",
              "      box-shadow: 0px 1px 2px rgba(60, 64, 67, 0.3), 0px 1px 3px 1px rgba(60, 64, 67, 0.15);\n",
              "      fill: #174EA6;\n",
              "    }\n",
              "\n",
              "    [theme=dark] .colab-df-convert {\n",
              "      background-color: #3B4455;\n",
              "      fill: #D2E3FC;\n",
              "    }\n",
              "\n",
              "    [theme=dark] .colab-df-convert:hover {\n",
              "      background-color: #434B5C;\n",
              "      box-shadow: 0px 1px 3px 1px rgba(0, 0, 0, 0.15);\n",
              "      filter: drop-shadow(0px 1px 2px rgba(0, 0, 0, 0.3));\n",
              "      fill: #FFFFFF;\n",
              "    }\n",
              "  </style>\n",
              "\n",
              "      <script>\n",
              "        const buttonEl =\n",
              "          document.querySelector('#df-a47d2933-639e-497e-8977-826a689f980b button.colab-df-convert');\n",
              "        buttonEl.style.display =\n",
              "          google.colab.kernel.accessAllowed ? 'block' : 'none';\n",
              "\n",
              "        async function convertToInteractive(key) {\n",
              "          const element = document.querySelector('#df-a47d2933-639e-497e-8977-826a689f980b');\n",
              "          const dataTable =\n",
              "            await google.colab.kernel.invokeFunction('convertToInteractive',\n",
              "                                                     [key], {});\n",
              "          if (!dataTable) return;\n",
              "\n",
              "          const docLinkHtml = 'Like what you see? Visit the ' +\n",
              "            '<a target=\"_blank\" href=https://colab.research.google.com/notebooks/data_table.ipynb>data table notebook</a>'\n",
              "            + ' to learn more about interactive tables.';\n",
              "          element.innerHTML = '';\n",
              "          dataTable['output_type'] = 'display_data';\n",
              "          await google.colab.output.renderOutput(dataTable, element);\n",
              "          const docLink = document.createElement('div');\n",
              "          docLink.innerHTML = docLinkHtml;\n",
              "          element.appendChild(docLink);\n",
              "        }\n",
              "      </script>\n",
              "    </div>\n",
              "  </div>\n",
              "  "
            ]
          },
          "metadata": {},
          "execution_count": 23
        }
      ]
    },
    {
      "cell_type": "code",
      "source": [
        "# after 2006\n",
        "df_after_2006 = df[df['year'] >= 2006]\n",
        "df_after_2006.name = 'After 2006'\n",
        "df_after_2006.head()"
      ],
      "metadata": {
        "colab": {
          "base_uri": "https://localhost:8080/",
          "height": 206
        },
        "id": "BQIDOa43RMNY",
        "outputId": "59ee221d-ee93-4d23-a4b5-8dfc63920bc0"
      },
      "execution_count": 24,
      "outputs": [
        {
          "output_type": "execute_result",
          "data": {
            "text/plain": [
              "    year  gdp_per_capita      flfpr  log_gdp_per_capita  \\\n",
              "16  2006      806.753281  30.712000            9.655984   \n",
              "17  2007     1028.334772  29.490000           10.006094   \n",
              "18  2008      998.522342  28.290001            9.963651   \n",
              "19  2009     1101.960838  27.114000           10.105857   \n",
              "20  2010     1357.563727  25.965000           10.406804   \n",
              "\n",
              "    log_gdp_per_capita_squared  abs_flfp  \n",
              "16                   93.238022   0.30712  \n",
              "17                  100.121923   0.29490  \n",
              "18                   99.274339   0.28290  \n",
              "19                  102.128351   0.27114  \n",
              "20                  108.301574   0.25965  "
            ],
            "text/html": [
              "\n",
              "  <div id=\"df-ec9a31e7-84eb-480a-8f34-cd319c38cade\">\n",
              "    <div class=\"colab-df-container\">\n",
              "      <div>\n",
              "<style scoped>\n",
              "    .dataframe tbody tr th:only-of-type {\n",
              "        vertical-align: middle;\n",
              "    }\n",
              "\n",
              "    .dataframe tbody tr th {\n",
              "        vertical-align: top;\n",
              "    }\n",
              "\n",
              "    .dataframe thead th {\n",
              "        text-align: right;\n",
              "    }\n",
              "</style>\n",
              "<table border=\"1\" class=\"dataframe\">\n",
              "  <thead>\n",
              "    <tr style=\"text-align: right;\">\n",
              "      <th></th>\n",
              "      <th>year</th>\n",
              "      <th>gdp_per_capita</th>\n",
              "      <th>flfpr</th>\n",
              "      <th>log_gdp_per_capita</th>\n",
              "      <th>log_gdp_per_capita_squared</th>\n",
              "      <th>abs_flfp</th>\n",
              "    </tr>\n",
              "  </thead>\n",
              "  <tbody>\n",
              "    <tr>\n",
              "      <th>16</th>\n",
              "      <td>2006</td>\n",
              "      <td>806.753281</td>\n",
              "      <td>30.712000</td>\n",
              "      <td>9.655984</td>\n",
              "      <td>93.238022</td>\n",
              "      <td>0.30712</td>\n",
              "    </tr>\n",
              "    <tr>\n",
              "      <th>17</th>\n",
              "      <td>2007</td>\n",
              "      <td>1028.334772</td>\n",
              "      <td>29.490000</td>\n",
              "      <td>10.006094</td>\n",
              "      <td>100.121923</td>\n",
              "      <td>0.29490</td>\n",
              "    </tr>\n",
              "    <tr>\n",
              "      <th>18</th>\n",
              "      <td>2008</td>\n",
              "      <td>998.522342</td>\n",
              "      <td>28.290001</td>\n",
              "      <td>9.963651</td>\n",
              "      <td>99.274339</td>\n",
              "      <td>0.28290</td>\n",
              "    </tr>\n",
              "    <tr>\n",
              "      <th>19</th>\n",
              "      <td>2009</td>\n",
              "      <td>1101.960838</td>\n",
              "      <td>27.114000</td>\n",
              "      <td>10.105857</td>\n",
              "      <td>102.128351</td>\n",
              "      <td>0.27114</td>\n",
              "    </tr>\n",
              "    <tr>\n",
              "      <th>20</th>\n",
              "      <td>2010</td>\n",
              "      <td>1357.563727</td>\n",
              "      <td>25.965000</td>\n",
              "      <td>10.406804</td>\n",
              "      <td>108.301574</td>\n",
              "      <td>0.25965</td>\n",
              "    </tr>\n",
              "  </tbody>\n",
              "</table>\n",
              "</div>\n",
              "      <button class=\"colab-df-convert\" onclick=\"convertToInteractive('df-ec9a31e7-84eb-480a-8f34-cd319c38cade')\"\n",
              "              title=\"Convert this dataframe to an interactive table.\"\n",
              "              style=\"display:none;\">\n",
              "        \n",
              "  <svg xmlns=\"http://www.w3.org/2000/svg\" height=\"24px\"viewBox=\"0 0 24 24\"\n",
              "       width=\"24px\">\n",
              "    <path d=\"M0 0h24v24H0V0z\" fill=\"none\"/>\n",
              "    <path d=\"M18.56 5.44l.94 2.06.94-2.06 2.06-.94-2.06-.94-.94-2.06-.94 2.06-2.06.94zm-11 1L8.5 8.5l.94-2.06 2.06-.94-2.06-.94L8.5 2.5l-.94 2.06-2.06.94zm10 10l.94 2.06.94-2.06 2.06-.94-2.06-.94-.94-2.06-.94 2.06-2.06.94z\"/><path d=\"M17.41 7.96l-1.37-1.37c-.4-.4-.92-.59-1.43-.59-.52 0-1.04.2-1.43.59L10.3 9.45l-7.72 7.72c-.78.78-.78 2.05 0 2.83L4 21.41c.39.39.9.59 1.41.59.51 0 1.02-.2 1.41-.59l7.78-7.78 2.81-2.81c.8-.78.8-2.07 0-2.86zM5.41 20L4 18.59l7.72-7.72 1.47 1.35L5.41 20z\"/>\n",
              "  </svg>\n",
              "      </button>\n",
              "      \n",
              "  <style>\n",
              "    .colab-df-container {\n",
              "      display:flex;\n",
              "      flex-wrap:wrap;\n",
              "      gap: 12px;\n",
              "    }\n",
              "\n",
              "    .colab-df-convert {\n",
              "      background-color: #E8F0FE;\n",
              "      border: none;\n",
              "      border-radius: 50%;\n",
              "      cursor: pointer;\n",
              "      display: none;\n",
              "      fill: #1967D2;\n",
              "      height: 32px;\n",
              "      padding: 0 0 0 0;\n",
              "      width: 32px;\n",
              "    }\n",
              "\n",
              "    .colab-df-convert:hover {\n",
              "      background-color: #E2EBFA;\n",
              "      box-shadow: 0px 1px 2px rgba(60, 64, 67, 0.3), 0px 1px 3px 1px rgba(60, 64, 67, 0.15);\n",
              "      fill: #174EA6;\n",
              "    }\n",
              "\n",
              "    [theme=dark] .colab-df-convert {\n",
              "      background-color: #3B4455;\n",
              "      fill: #D2E3FC;\n",
              "    }\n",
              "\n",
              "    [theme=dark] .colab-df-convert:hover {\n",
              "      background-color: #434B5C;\n",
              "      box-shadow: 0px 1px 3px 1px rgba(0, 0, 0, 0.15);\n",
              "      filter: drop-shadow(0px 1px 2px rgba(0, 0, 0, 0.3));\n",
              "      fill: #FFFFFF;\n",
              "    }\n",
              "  </style>\n",
              "\n",
              "      <script>\n",
              "        const buttonEl =\n",
              "          document.querySelector('#df-ec9a31e7-84eb-480a-8f34-cd319c38cade button.colab-df-convert');\n",
              "        buttonEl.style.display =\n",
              "          google.colab.kernel.accessAllowed ? 'block' : 'none';\n",
              "\n",
              "        async function convertToInteractive(key) {\n",
              "          const element = document.querySelector('#df-ec9a31e7-84eb-480a-8f34-cd319c38cade');\n",
              "          const dataTable =\n",
              "            await google.colab.kernel.invokeFunction('convertToInteractive',\n",
              "                                                     [key], {});\n",
              "          if (!dataTable) return;\n",
              "\n",
              "          const docLinkHtml = 'Like what you see? Visit the ' +\n",
              "            '<a target=\"_blank\" href=https://colab.research.google.com/notebooks/data_table.ipynb>data table notebook</a>'\n",
              "            + ' to learn more about interactive tables.';\n",
              "          element.innerHTML = '';\n",
              "          dataTable['output_type'] = 'display_data';\n",
              "          await google.colab.output.renderOutput(dataTable, element);\n",
              "          const docLink = document.createElement('div');\n",
              "          docLink.innerHTML = docLinkHtml;\n",
              "          element.appendChild(docLink);\n",
              "        }\n",
              "      </script>\n",
              "    </div>\n",
              "  </div>\n",
              "  "
            ]
          },
          "metadata": {},
          "execution_count": 24
        }
      ]
    },
    {
      "cell_type": "code",
      "source": [
        "def draw_scatter_plot(df): \n",
        "  sns.scatterplot(x='log_gdp_per_capita',y='abs_flfp',data=df) \n",
        "  plt.title('Female Labour Force Participation vs log(GDP per capita)\\n' + df.name)\n",
        "  plt.ylabel('FLFP')\n",
        "  plt.xlabel('log(GDP per capita)')\n",
        "  plt.show()"
      ],
      "metadata": {
        "id": "gD5_B5qStmMH"
      },
      "execution_count": 25,
      "outputs": []
    },
    {
      "cell_type": "code",
      "source": [
        "def draw_reg_plot(df):\n",
        "  sns.regplot(x='log_gdp_per_capita',y='abs_flfp',data=df, order=2) \n",
        "  plt.title('Female Labour Force Participation vs log(GDP per capita)\\n' + df.name)\n",
        "  plt.ylabel('FLFP')\n",
        "  plt.xlabel('log(GDP per capita)')\n",
        "  plt.show()"
      ],
      "metadata": {
        "id": "Jw3wmMfWSGIz"
      },
      "execution_count": 26,
      "outputs": []
    },
    {
      "cell_type": "code",
      "source": [
        "def draw_extended_reg_plot(df):\n",
        "  # degree 2 polynomial fit or quadratic fit\n",
        "  model = np.poly1d(np.polyfit(df['log_gdp_per_capita'],\n",
        "                              df['abs_flfp'], 2))\n",
        "    \n",
        "  # polynomial line visualization\n",
        "  polyline = np.linspace(0, 20, 100)\n",
        "  plt.scatter(df['log_gdp_per_capita'], df['abs_flfp'])\n",
        "  plt.plot(polyline, model(polyline))\n",
        "  plt.title('Female Labour Force Participation vs log(GDP per capita)\\n' + df.name)\n",
        "  plt.ylabel('FLFP')\n",
        "  plt.xlabel('log(GDP per capita)')\n",
        "  plt.show()\n",
        "  return model\n",
        "  "
      ],
      "metadata": {
        "id": "jTJvdOCqyyQV"
      },
      "execution_count": 27,
      "outputs": []
    },
    {
      "cell_type": "code",
      "source": [
        "def get_r2_score(df, model):\n",
        "  return r2_score(df['abs_flfp'], \n",
        "               model(df['log_gdp_per_capita']))"
      ],
      "metadata": {
        "id": "axwdZ6VvXb-Z"
      },
      "execution_count": 28,
      "outputs": []
    },
    {
      "cell_type": "code",
      "source": [
        "def get_coorelation(df):\n",
        "  return abs(df['log_gdp_per_capita'].corr(df['abs_flfp']))"
      ],
      "metadata": {
        "id": "5WN8pN-DEWQY"
      },
      "execution_count": 29,
      "outputs": []
    },
    {
      "cell_type": "code",
      "source": [
        "def draw_extended_reg_plot_cummulative(df1, df2):\n",
        "  # degree 2 polynomial fit or quadratic fit\n",
        "  model1 = np.poly1d(np.polyfit(df1['log_gdp_per_capita'],\n",
        "                              df1['abs_flfp'], 2))\n",
        "  model2 = np.poly1d(np.polyfit(df2['log_gdp_per_capita'],\n",
        "                              df2['abs_flfp'], 2))\n",
        "  # polynomial line visualization\n",
        "  polyline = np.linspace(0, 20, 100)\n",
        "  plt.scatter(df['log_gdp_per_capita'], df['abs_flfp'])\n",
        "  plt.plot(polyline, model1(polyline), label='Before Recession')\n",
        "  plt.plot(polyline, model2(polyline), label='After Recession')\n",
        "  plt.legend(loc=\"upper left\")\n",
        "  plt.title('Female Labour Force Participation vs log(GDP per capita)\\n' + df1.name + ' + ' + df2.name)\n",
        "  plt.ylabel('FLFP')\n",
        "  plt.xlabel('log(GDP per capita)')\n",
        "  plt.show()\n",
        "  return model1, model2\n",
        "\n",
        "\n",
        "# ax = before_washing.plot(x='date', y='proportion_deaths', label='Before handwashing')\n",
        "# after_washing.plot(x='date', y='proportion_deaths', label='After handwashing', ax=ax)\n",
        "# ax.set_ylabel('Proportion deaths')\n",
        "  "
      ],
      "metadata": {
        "id": "7p0aNeEdMtUs"
      },
      "execution_count": 50,
      "outputs": []
    },
    {
      "cell_type": "markdown",
      "source": [
        "# **BEFORE 2006**"
      ],
      "metadata": {
        "id": "cPLc-wrrYNkm"
      }
    },
    {
      "cell_type": "code",
      "source": [
        "draw_scatter_plot(df_before_2006)"
      ],
      "metadata": {
        "colab": {
          "base_uri": "https://localhost:8080/",
          "height": 310
        },
        "id": "Txldtlu6YWUA",
        "outputId": "3fce28bc-2822-4289-c0d1-e7f0729e76c3"
      },
      "execution_count": 30,
      "outputs": [
        {
          "output_type": "display_data",
          "data": {
            "text/plain": [
              "<Figure size 432x288 with 1 Axes>"
            ],
            "image/png": "[encoded data removed]"
          },
          "metadata": {
            "needs_background": "light"
          }
        }
      ]
    },
    {
      "cell_type": "code",
      "source": [
        "draw_reg_plot(df_before_2006)"
      ],
      "metadata": {
        "colab": {
          "base_uri": "https://localhost:8080/",
          "height": 310
        },
        "id": "77SgC4_LUszN",
        "outputId": "2b7ce4c6-577d-4df4-c411-ca5bd34385b3"
      },
      "execution_count": 31,
      "outputs": [
        {
          "output_type": "display_data",
          "data": {
            "text/plain": [
              "<Figure size 432x288 with 1 Axes>"
            ],
            "image/png": "[encoded data removed]"
          },
          "metadata": {
            "needs_background": "light"
          }
        }
      ]
    },
    {
      "cell_type": "code",
      "source": [
        "model_before_2006 = draw_extended_reg_plot(df_before_2006)"
      ],
      "metadata": {
        "colab": {
          "base_uri": "https://localhost:8080/",
          "height": 310
        },
        "id": "8FHEfW7XVeOH",
        "outputId": "ad90e8c3-2f32-4639-de44-e966bfe88108"
      },
      "execution_count": 32,
      "outputs": [
        {
          "output_type": "display_data",
          "data": {
            "text/plain": [
              "<Figure size 432x288 with 1 Axes>"
            ],
            "image/png": "[encoded data removed]"
          },
          "metadata": {
            "needs_background": "light"
          }
        }
      ]
    },
    {
      "cell_type": "code",
      "source": [
        "print(model_before_2006)"
      ],
      "metadata": {
        "colab": {
          "base_uri": "https://localhost:8080/"
        },
        "id": "sF1KDJ0zYjuu",
        "outputId": "6a4f930d-c40c-4941-f83e-659f5ce8c0ac"
      },
      "execution_count": 33,
      "outputs": [
        {
          "output_type": "stream",
          "name": "stdout",
          "text": [
            "         2\n",
            "0.01261 x - 0.211 x + 1.188\n"
          ]
        }
      ]
    },
    {
      "cell_type": "code",
      "source": [
        "print(get_r2_score(df_before_2006, model_before_2006))"
      ],
      "metadata": {
        "colab": {
          "base_uri": "https://localhost:8080/"
        },
        "id": "YQZ9KOp8Ytw8",
        "outputId": "7775e97f-fa34-44c2-be07-75ad9192f22e"
      },
      "execution_count": 34,
      "outputs": [
        {
          "output_type": "stream",
          "name": "stdout",
          "text": [
            "0.9093691704816828\n"
          ]
        }
      ]
    },
    {
      "cell_type": "code",
      "source": [
        "print(get_coorelation(df_before_2006))"
      ],
      "metadata": {
        "colab": {
          "base_uri": "https://localhost:8080/"
        },
        "id": "V0WtDWp-FO5e",
        "outputId": "82ff6640-ef15-462a-df63-9e04b0a6d52d"
      },
      "execution_count": 35,
      "outputs": [
        {
          "output_type": "stream",
          "name": "stdout",
          "text": [
            "0.8674146211561067\n"
          ]
        }
      ]
    },
    {
      "cell_type": "markdown",
      "source": [
        "> **Regression result before 2006**\n",
        "\n",
        "| Variable      | Coefficient |\n",
        "| ----------- | ----------- |\n",
        "| (log GDP per capita)^2      | ß0 = 0.1261       |\n",
        "| log GDP per capita   | ß1 = -0.211        |\n",
        "| R-squared      | 0.9093691704816828       |\n",
        "| α   | 1.188        |\n",
        "\n",
        "*R square value is above 0.7 so it implies quadratic fit is a fit for the data.*\n",
        "\n",
        "\n",
        "> **Coorelation result before 2006**\n",
        "\n",
        "Coorelation between FLFP and log GDP per capita: **0.8674146211561067**\n",
        "\n",
        "*This shows strong coorelation*"
      ],
      "metadata": {
        "id": "wKp06W9lfyjt"
      }
    },
    {
      "cell_type": "markdown",
      "source": [
        "# **AFTER 2006**"
      ],
      "metadata": {
        "id": "aobre6FYY4H2"
      }
    },
    {
      "cell_type": "code",
      "source": [
        "draw_scatter_plot(df_after_2006)"
      ],
      "metadata": {
        "colab": {
          "base_uri": "https://localhost:8080/",
          "height": 310
        },
        "id": "lD4XYeHvZUGJ",
        "outputId": "afeb66c6-bdd5-4ae4-9366-21d0a2bae0ff"
      },
      "execution_count": 36,
      "outputs": [
        {
          "output_type": "display_data",
          "data": {
            "text/plain": [
              "<Figure size 432x288 with 1 Axes>"
            ],
            "image/png": "[encoded data removed]"
          },
          "metadata": {
            "needs_background": "light"
          }
        }
      ]
    },
    {
      "cell_type": "code",
      "source": [
        "draw_reg_plot(df_after_2006)"
      ],
      "metadata": {
        "colab": {
          "base_uri": "https://localhost:8080/",
          "height": 310
        },
        "id": "WGNMSPEPWtU6",
        "outputId": "780da54a-7ef3-49d9-dc55-ee006faee247"
      },
      "execution_count": 37,
      "outputs": [
        {
          "output_type": "display_data",
          "data": {
            "text/plain": [
              "<Figure size 432x288 with 1 Axes>"
            ],
            "image/png": "[encoded data removed]"
          },
          "metadata": {
            "needs_background": "light"
          }
        }
      ]
    },
    {
      "cell_type": "code",
      "source": [
        "model_after_2006 = draw_extended_reg_plot(df_after_2006)"
      ],
      "metadata": {
        "colab": {
          "base_uri": "https://localhost:8080/",
          "height": 310
        },
        "id": "4OQFu29lWz0T",
        "outputId": "f49b4270-e68c-434b-c304-83d2a85587f1"
      },
      "execution_count": 38,
      "outputs": [
        {
          "output_type": "display_data",
          "data": {
            "text/plain": [
              "<Figure size 432x288 with 1 Axes>"
            ],
            "image/png": "[encoded data removed]"
          },
          "metadata": {
            "needs_background": "light"
          }
        }
      ]
    },
    {
      "cell_type": "code",
      "source": [
        "print(model_after_2006)"
      ],
      "metadata": {
        "colab": {
          "base_uri": "https://localhost:8080/"
        },
        "id": "7J8nOHnQAbt3",
        "outputId": "6ae37af1-27c6-483c-8bd2-aeb0c7338ce1"
      },
      "execution_count": 39,
      "outputs": [
        {
          "output_type": "stream",
          "name": "stdout",
          "text": [
            "        2\n",
            "0.0137 x - 0.3686 x + 2.596\n"
          ]
        }
      ]
    },
    {
      "cell_type": "code",
      "source": [
        "print(get_r2_score(df_after_2006, model_after_2006))"
      ],
      "metadata": {
        "colab": {
          "base_uri": "https://localhost:8080/"
        },
        "id": "-6-r63AIXswO",
        "outputId": "7c34cee2-aec7-4bd4-fbf0-a544fafd8ebd"
      },
      "execution_count": 40,
      "outputs": [
        {
          "output_type": "stream",
          "name": "stdout",
          "text": [
            "0.9298091200395427\n"
          ]
        }
      ]
    },
    {
      "cell_type": "code",
      "source": [
        "print(get_coorelation(df_after_2006))"
      ],
      "metadata": {
        "colab": {
          "base_uri": "https://localhost:8080/"
        },
        "id": "ACIjE-vNGX0r",
        "outputId": "ad9e5325-2195-4f5a-e5bb-704b19a46f82"
      },
      "execution_count": 41,
      "outputs": [
        {
          "output_type": "stream",
          "name": "stdout",
          "text": [
            "0.9617973838637672\n"
          ]
        }
      ]
    },
    {
      "cell_type": "markdown",
      "source": [
        "> **Regression result after 2006**\n",
        "\n",
        "| Variable      | Coefficient |\n",
        "| ----------- | ----------- |\n",
        "| (log GDP per capita)^2      | ß0 = 0.0137       |\n",
        "| log GDP per capita   | ß1 = -0.3686        |\n",
        "| R-squared      | 0.9298091200395427       |\n",
        "| α   | 2.596        |\n",
        "\n",
        "*R square value is above 0.7 so it implies quadratic fit is a fit for the data.*\n",
        "\n",
        "\n",
        "> **Coorelation result after 2006**\n",
        "\n",
        "Coorelation between FLFP and log GDP per capita: **0.9617973838637672**\n",
        "\n",
        "*This shows strong coorelation*"
      ],
      "metadata": {
        "id": "5F-3vmjWg6ZQ"
      }
    },
    {
      "cell_type": "markdown",
      "source": [
        "# **CUMMULATIVE**"
      ],
      "metadata": {
        "id": "qsabvQSrZmr2"
      }
    },
    {
      "cell_type": "code",
      "source": [
        "draw_scatter_plot(df)"
      ],
      "metadata": {
        "colab": {
          "base_uri": "https://localhost:8080/",
          "height": 310
        },
        "id": "RMyEgx93ZsIb",
        "outputId": "f93f195a-04f7-4b75-cf99-29df99d3c7ed"
      },
      "execution_count": 42,
      "outputs": [
        {
          "output_type": "display_data",
          "data": {
            "text/plain": [
              "<Figure size 432x288 with 1 Axes>"
            ],
            "image/png": "[encoded data removed]"
          },
          "metadata": {
            "needs_background": "light"
          }
        }
      ]
    },
    {
      "cell_type": "code",
      "source": [
        "draw_reg_plot(df)"
      ],
      "metadata": {
        "colab": {
          "base_uri": "https://localhost:8080/",
          "height": 310
        },
        "id": "z4xOmx13ZzOr",
        "outputId": "62429a1f-700c-4c6d-d78d-501e2835c4dd"
      },
      "execution_count": 43,
      "outputs": [
        {
          "output_type": "display_data",
          "data": {
            "text/plain": [
              "<Figure size 432x288 with 1 Axes>"
            ],
            "image/png": "[encoded data removed]"
          },
          "metadata": {
            "needs_background": "light"
          }
        }
      ]
    },
    {
      "cell_type": "code",
      "source": [
        "cummulative_model = draw_extended_reg_plot(df)"
      ],
      "metadata": {
        "colab": {
          "base_uri": "https://localhost:8080/",
          "height": 310
        },
        "id": "UQrJDemBZ7HL",
        "outputId": "25c68472-0d2c-416a-8f06-3907d4680cb5"
      },
      "execution_count": 44,
      "outputs": [
        {
          "output_type": "display_data",
          "data": {
            "text/plain": [
              "<Figure size 432x288 with 1 Axes>"
            ],
            "image/png": "[encoded data removed]"
          },
          "metadata": {
            "needs_background": "light"
          }
        }
      ]
    },
    {
      "cell_type": "code",
      "source": [
        "ax = before_washing.plot(x='date', y='proportion_deaths', label='Before handwashing')\n",
        "after_washing.plot(x='date', y='proportion_deaths', label='After handwashing', ax=ax)\n",
        "ax.set_ylabel('Proportion deaths')"
      ],
      "metadata": {
        "id": "P9J3lDJnL4W3"
      },
      "execution_count": null,
      "outputs": []
    },
    {
      "cell_type": "code",
      "source": [
        "print(cummulative_model)"
      ],
      "metadata": {
        "colab": {
          "base_uri": "https://localhost:8080/"
        },
        "id": "5AQvx5_waII-",
        "outputId": "5580c86d-363c-494c-f044-9653a756f8da"
      },
      "execution_count": 45,
      "outputs": [
        {
          "output_type": "stream",
          "name": "stdout",
          "text": [
            "          2\n",
            "-0.02601 x + 0.4626 x - 1.745\n"
          ]
        }
      ]
    },
    {
      "cell_type": "code",
      "source": [
        "print(get_r2_score(df, cummulative_model))"
      ],
      "metadata": {
        "colab": {
          "base_uri": "https://localhost:8080/"
        },
        "id": "qhRE4vgSaP56",
        "outputId": "8d20854f-6a45-461c-9eed-70b3c60447f7"
      },
      "execution_count": 46,
      "outputs": [
        {
          "output_type": "stream",
          "name": "stdout",
          "text": [
            "0.9538936281313893\n"
          ]
        }
      ]
    },
    {
      "cell_type": "code",
      "source": [
        "print(get_coorelation(df))"
      ],
      "metadata": {
        "colab": {
          "base_uri": "https://localhost:8080/"
        },
        "id": "qtl3hIpmGvaY",
        "outputId": "e2600a18-815c-41b6-bf46-1adbf38afdfc"
      },
      "execution_count": 47,
      "outputs": [
        {
          "output_type": "stream",
          "name": "stdout",
          "text": [
            "0.9020312937686403\n"
          ]
        }
      ]
    },
    {
      "cell_type": "markdown",
      "source": [
        "> **Regression result (cummulative)**\n",
        "\n",
        "| Variable      | Coefficient |\n",
        "| ----------- | ----------- |\n",
        "| (log GDP per capita)^2      | ß0 = -0.02601       |\n",
        "| log GDP per capita   | ß1 = 0.4626        |\n",
        "| R-squared      | 0.9538936281313893       |\n",
        "| α   | -1.745        |\n",
        "\n",
        "*R square value is above 0.7 so it implies quadratic fit is a fit for the data.*\n",
        "\n",
        "\n",
        "> **Coorelation (cummulative)**\n",
        "\n",
        "Coorelation between FLFP and log GDP per capita: **0.9020312937686403**\n",
        "\n",
        "*This shows strong coorelation*"
      ],
      "metadata": {
        "id": "_KaWc-2nhwVt"
      }
    },
    {
      "cell_type": "code",
      "source": [
        "draw_extended_reg_plot_cummulative(df_before_2006, df_after_2006)"
      ],
      "metadata": {
        "colab": {
          "base_uri": "https://localhost:8080/",
          "height": 345
        },
        "id": "VK0xIeocOdxU",
        "outputId": "bdc7baed-ec71-46b2-db50-d6c82003a548"
      },
      "execution_count": 51,
      "outputs": [
        {
          "output_type": "display_data",
          "data": {
            "text/plain": [
              "<Figure size 432x288 with 1 Axes>"
            ],
            "image/png": "[encoded data removed]"
          },
          "metadata": {
            "needs_background": "light"
          }
        },
        {
          "output_type": "execute_result",
          "data": {
            "text/plain": [
              "(poly1d([ 0.01260651, -0.21097717,  1.18772135]),\n",
              " poly1d([ 0.01370393, -0.36856586,  2.59612449]))"
            ]
          },
          "metadata": {},
          "execution_count": 51
        }
      ]
    }
  ]
}